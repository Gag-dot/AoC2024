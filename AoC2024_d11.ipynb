{
  "metadata": {
    "kernelspec": {
      "name": "python",
      "display_name": "Python (Pyodide)",
      "language": "python"
    },
    "language_info": {
      "codemirror_mode": {
        "name": "python",
        "version": 3
      },
      "file_extension": ".py",
      "mimetype": "text/x-python",
      "name": "python",
      "nbconvert_exporter": "python",
      "pygments_lexer": "ipython3",
      "version": "3.8"
    }
  },
  "nbformat_minor": 5,
  "nbformat": 4,
  "cells": [
    {
      "id": "1ae10b3c-360b-4b71-815d-d7a746bddd1a",
      "cell_type": "code",
      "source": "import pandas as pd",
      "metadata": {
        "trusted": true
      },
      "outputs": [],
      "execution_count": 1
    },
    {
      "id": "643cae86-d227-41b9-8b79-279e7c6d0e79",
      "cell_type": "code",
      "source": "def ReadData(filename):\n    with open(filename,'r') as file:\n        line=file.read().strip()\n        data=list(line.split(\" \"))\n    return data",
      "metadata": {
        "trusted": true
      },
      "outputs": [],
      "execution_count": 2
    },
    {
      "id": "ca8c17d8-9deb-4681-ab21-426862ebd552",
      "cell_type": "code",
      "source": "def ApplyRules(data):\n    ndat=[]\n    for i in range(len(data)):\n        if data[i]=='0':\n            ndat.append('1')\n        elif len(data[i])%2==0:\n            ndat.append(data[i][0:int(len(data[i])/2)])\n            ndat.append(str(int(data[i][int(len(data[i])/2):])))\n        else:\n            ndat.append(str(int(data[i])*2024))\n    return ndat",
      "metadata": {
        "trusted": true
      },
      "outputs": [],
      "execution_count": 14
    },
    {
      "id": "23676e82-2d51-47a5-ad58-b259caac9284",
      "cell_type": "code",
      "source": "def Blink25(filename):\n    data=ReadData(filename)\n    for i in range(25):\n        data=ApplyRules(data)\n    return data",
      "metadata": {
        "trusted": true
      },
      "outputs": [],
      "execution_count": 43
    },
    {
      "id": "1dac34e4-da40-4af0-8dea-f8f3594b7389",
      "cell_type": "code",
      "source": "data=Blink25('data_day11.txt')\nprint(len(data))\n",
      "metadata": {
        "trusted": true
      },
      "outputs": [
        {
          "name": "stdout",
          "output_type": "stream",
          "text": "220999\n"
        }
      ],
      "execution_count": 44
    },
    {
      "id": "aa114cb8-7792-41cd-8ef5-cadeb95f84d3",
      "cell_type": "code",
      "source": "def SmartRules(data, N):\n    numbers={data[i]:1 for i in range(len(data))}\n    for i in range(N):\n        new_nb={}\n        for n in numbers.keys():\n            if n==0:\n                new_nb[1]=new_nb.get(1,0) + numbers[n]\n            elif len(str(n))%2==0:\n                a=int(str(n)[:len(str(n))//2])\n                b=int(str(n)[len(str(n))//2:])\n                new_nb[a]=new_nb.get(a,0)+numbers[n]\n                new_nb[b]=new_nb.get(b,0)+numbers[n]\n            else:\n                new_nb[n*2024]=new_nb.get(n*2024,0)+numbers[n]\n        numbers=new_nb\n    return numbers",
      "metadata": {
        "trusted": true
      },
      "outputs": [],
      "execution_count": 56
    },
    {
      "id": "ad67490a-b576-4869-91c8-866a7115f025",
      "cell_type": "code",
      "source": "def CountNum(numb):\n    tot_stones=0\n    for eff in numb.values():\n        tot_stones+=eff\n    return tot_stones",
      "metadata": {
        "trusted": true
      },
      "outputs": [],
      "execution_count": 63
    },
    {
      "id": "7dbced5f-7871-49e4-8ab4-2512e17c86b7",
      "cell_type": "code",
      "source": "def Blink75(filename,N):\n    data=list(map(int,ReadData(filename)))\n    numb=SmartRules(data,N)\n    return CountNum(numb)",
      "metadata": {
        "trusted": true
      },
      "outputs": [],
      "execution_count": 64
    },
    {
      "id": "cc608ea7-7552-4a54-8a5e-d6bbbd4ecff5",
      "cell_type": "code",
      "source": "Blink75('data_day11.txt',75)",
      "metadata": {
        "trusted": true
      },
      "outputs": [
        {
          "execution_count": 66,
          "output_type": "execute_result",
          "data": {
            "text/plain": "261936432123724"
          },
          "metadata": {}
        }
      ],
      "execution_count": 66
    },
    {
      "id": "1f701070-7ff3-4385-a6e8-05e5fe937a2a",
      "cell_type": "code",
      "source": "",
      "metadata": {
        "trusted": true
      },
      "outputs": [],
      "execution_count": null
    }
  ]
}