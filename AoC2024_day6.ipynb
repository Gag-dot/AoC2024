{
  "metadata": {
    "kernelspec": {
      "name": "python",
      "display_name": "Python (Pyodide)",
      "language": "python"
    },
    "language_info": {
      "codemirror_mode": {
        "name": "python",
        "version": 3
      },
      "file_extension": ".py",
      "mimetype": "text/x-python",
      "name": "python",
      "nbconvert_exporter": "python",
      "pygments_lexer": "ipython3",
      "version": "3.8"
    }
  },
  "nbformat_minor": 5,
  "nbformat": 4,
  "cells": [
    {
      "id": "e2ae657b-9708-429c-970f-5c1c5483de77",
      "cell_type": "code",
      "source": "import pandas as pd\nimport copy",
      "metadata": {
        "trusted": true
      },
      "outputs": [],
      "execution_count": 1
    },
    {
      "id": "3f10afa9-8a57-4d0f-9afc-87720e2c033c",
      "cell_type": "code",
      "source": "with open(\"data_day6.txt\",\"r\") as file:\n    content=file.read()\n    lines=list(content.split(\"\\n\"))",
      "metadata": {
        "trusted": true
      },
      "outputs": [],
      "execution_count": 49
    },
    {
      "id": "88482524-a7ac-438d-8cee-46c8f47eafad",
      "cell_type": "code",
      "source": "map_tb=[]\ndict_dir={(-1,0):(0,1),(0,1):(1,0),(1,0):(0,-1),(0,-1):(-1,0)}\nfor line in lines:\n    t_line=[]\n    for i in range(len(line)):\n        t_line.append(line[i])\n    map_tb.append(t_line)",
      "metadata": {
        "trusted": true
      },
      "outputs": [],
      "execution_count": 50
    },
    {
      "id": "1309347d-b53c-4374-a9b8-47aa5eeed117",
      "cell_type": "code",
      "source": "def FindGuard(map_tb):\n    for i, row in enumerate(map_tb):\n        for j, value in enumerate(row):\n            if value=='^':\n                return i,j,(-1,0)                ",
      "metadata": {
        "trusted": true
      },
      "outputs": [],
      "execution_count": 4
    },
    {
      "id": "c849e77f-aa73-456e-bfa4-3e2b9def051f",
      "cell_type": "code",
      "source": "def NextStep(map_tb,i,j,direction):\n    if i+direction[0]>len(line)-1 or i+direction[0]<0 or j+direction[1]>len(lines)-1 or j+direction[1]<0:\n        return i,j,\"end\"\n    elif map_tb[i+direction[0]][j+direction[1]]=='#':\n        return i,j,dict_dir[direction]\n    else:\n        return i+direction[0],j+direction[1],direction",
      "metadata": {
        "trusted": true
      },
      "outputs": [],
      "execution_count": 5
    },
    {
      "id": "7d1bb723-482c-44b7-b1d3-5022afd5ee73",
      "cell_type": "code",
      "source": "def FindPassages(map_tb,i,j,direction):\n    visit=[]\n    while direction!='end':\n        visit.append([i,j])\n        i,j,direction=NextStep(map_tb,i,j,direction)\n    return set(tuple(item) for item in visit)\n    ",
      "metadata": {
        "trusted": true
      },
      "outputs": [],
      "execution_count": 6
    },
    {
      "id": "fe51511d-0b86-4dd5-bf04-58984ee63736",
      "cell_type": "code",
      "source": "i,j,direction=FindGuard(map_tb)\npassage=FindPassages(map_tb,i,j,direction)\nprint(len(passage))",
      "metadata": {
        "trusted": true
      },
      "outputs": [
        {
          "name": "stdout",
          "output_type": "stream",
          "text": "4711\n"
        }
      ],
      "execution_count": 32
    },
    {
      "id": "723d2aa5-fbf6-4d8d-8d18-75b21db9902c",
      "cell_type": "code",
      "source": "def CheckLoop(map_mod,i,j,direction):\n    visit_d=[]\n    loop=False\n    while not loop and direction!='end':\n        if [i,j,direction] in visit_d:\n            loop=True\n        visit_d.append([i,j,direction])\n        i,j,direction=NextStep(map_mod,i,j,direction)\n    return loop",
      "metadata": {
        "trusted": true
      },
      "outputs": [],
      "execution_count": 9
    },
    {
      "id": "db13116b-361b-42f7-aa06-6822b0d8c909",
      "cell_type": "code",
      "source": "a,b,direction=FindGuard(map_tb)\nobstacle=[]\nvisited=[]\ni,j=a,b\nhorizontal=[(0,1),(0,-1)]\nvertical=[(1,0),(-1,0)]\nwhile direction!=\"end\":\n    dir_obs=dict_dir[direction]\n    #print(i,j,direction, 'if obstacle :',dir_obs)\n    for x,y,vec in visited:\n        #print(x,y,vec, dir_obs)\n        if i==x and dir_obs==vec and dir_obs in horizontal:\n            #print(x,y,vec)\n            #print(\"obstacle: \", [i+direction[0],j+direction[1]])\n            if [i+direction[0],j+direction[1]] not in obstacle:\n                obstacle.append([i+direction[0],j+direction[1]])\n        elif j==y and dir_obs==vec and dir_obs in vertical:\n            #print(x,y,vec)\n            #print(\"obstacle: \", [i+direction[0],j+direction[1]])\n            if [i+direction[0],j+direction[1]] not in obstacle:\n                obstacle.append([i+direction[0],j+direction[1]])\n    visited.append([i,j,direction])\n    i,j,direction=NextStep(map_tb,i,j,direction)\n    #print(\"************\")\n    \n#print(obstacle)            \nprint(len(obstacle))",
      "metadata": {
        "trusted": true
      },
      "outputs": [
        {
          "name": "stdout",
          "output_type": "stream",
          "text": "734\n"
        }
      ],
      "execution_count": 33
    },
    {
      "id": "66efefe3-2cd6-4dee-8792-e9e39ab3e9bf",
      "cell_type": "code",
      "source": "a,b,direction=FindGuard(map_tb)\npassage=FindPassages(map_tb,a,b,direction)\nobstacle=[]\nfor (i,j) in passage:\n    map_mod=copy.deepcopy(map_tb)\n    map_mod[i][j]='#'\n    if CheckLoop(map_mod,i,j,direction):\n        obstacle.append([i,j])\nprint(len(obstacle))",
      "metadata": {
        "trusted": true
      },
      "outputs": [
        {
          "name": "stdout",
          "output_type": "stream",
          "text": "0\n"
        }
      ],
      "execution_count": 45
    },
    {
      "id": "d39dc4c2-84e7-446a-b5fb-68c22929cad2",
      "cell_type": "code",
      "source": "def TestObstacle(a,b,i,j,direction,visit,vis_dir):\n    map_mod=copy.deepcopy(map_tb)\n    map_mod[a][b]='.'\n    map_mod[i+direction[0]][j+direction[1]]='#'\n    visited=copy.deepcopy(visit)\n    vis_dired=copy.deepcopy(vis_dir)\n    loop=False\n    while direction!='end' and not loop:\n        visited.append([i,j])\n        vis_dired.append([i,j,direction])\n        i,j,direction=NextStep(map_tb,i,j,direction)\n        if [i,j,direction] in vis_dired:\n            loop=True\n    return loop\n\na,b,direction=FindGuard(map_tb)\nprint(a,b,direction)\nvisit=[]\nvis_dir=[]\nobstacle=[]\ni,j=a,b\nwhile direction!='end':\n    visit.append([i,j])\n    vis_dir.append([i,j])\n    i,j,direction=NextStep(map_tb,i,j,direction)\n    print(i,j,direction)\n    if i+direction[0]<len(line) and i+direction[0]>-1 or j+direction[1]<len(lines) or j+direction[1]>-1:\n        if [i+direction[0],j+direction[1]] not in visit:\n            if TestObstacle(a,b,i,j,direction,visit,vis_dir):\n                obstacle.append([i+direction[0],j+direction[1]])\nprint(obstacle)",
      "metadata": {
        "trusted": true
      },
      "outputs": [
        {
          "name": "stdout",
          "output_type": "stream",
          "text": "6 4 (-1, 0)\n5 4 (-1, 0)\n4 4 (-1, 0)\n3 4 (-1, 0)\n2 4 (-1, 0)\n1 4 (-1, 0)\n1 4 (0, 1)\n1 5 (0, 1)\n1 6 (0, 1)\n1 7 (0, 1)\n1 8 (0, 1)\n1 8 (1, 0)\n2 8 (1, 0)\n3 8 (1, 0)\n4 8 (1, 0)\n5 8 (1, 0)\n6 8 (1, 0)\n6 8 (0, -1)\n6 7 (0, -1)\n6 6 (0, -1)\n6 5 (0, -1)\n6 4 (0, -1)\n6 3 (0, -1)\n6 2 (0, -1)\n6 2 (-1, 0)\n5 2 (-1, 0)\n4 2 (-1, 0)\n4 2 (0, 1)\n4 3 (0, 1)\n4 4 (0, 1)\n4 5 (0, 1)\n4 6 (0, 1)\n4 6 (1, 0)\n5 6 (1, 0)\n6 6 (1, 0)\n7 6 (1, 0)\n8 6 (1, 0)\n8 6 (0, -1)\n8 5 (0, -1)\n8 4 (0, -1)\n8 3 (0, -1)\n8 2 (0, -1)\n8 1 (0, -1)\n8 1 (-1, 0)\n7 1 (-1, 0)\n7 1 (0, 1)\n7 2 (0, 1)\n7 3 (0, 1)\n7 4 (0, 1)\n7 5 (0, 1)\n7 6 (0, 1)\n7 7 (0, 1)\n7 7 (1, 0)\n8 7 (1, 0)\n9 7 (1, 0)\n"
        },
        {
          "ename": "<class 'IndexError'>",
          "evalue": "list index out of range",
          "traceback": [
            "\u001b[0;31m---------------------------------------------------------------------------\u001b[0m",
            "\u001b[0;31mIndexError\u001b[0m                                Traceback (most recent call last)",
            "Cell \u001b[0;32mIn[44], line 29\u001b[0m\n\u001b[1;32m     27\u001b[0m     \u001b[38;5;28;01mif\u001b[39;00m i\u001b[38;5;241m+\u001b[39mdirection[\u001b[38;5;241m0\u001b[39m]\u001b[38;5;241m<\u001b[39m\u001b[38;5;28mlen\u001b[39m(line)\u001b[38;5;241m-\u001b[39m\u001b[38;5;241m1\u001b[39m \u001b[38;5;129;01mand\u001b[39;00m i\u001b[38;5;241m+\u001b[39mdirection[\u001b[38;5;241m0\u001b[39m]\u001b[38;5;241m>\u001b[39m\u001b[38;5;241m-\u001b[39m\u001b[38;5;241m1\u001b[39m \u001b[38;5;129;01mor\u001b[39;00m j\u001b[38;5;241m+\u001b[39mdirection[\u001b[38;5;241m1\u001b[39m]\u001b[38;5;241m<\u001b[39m\u001b[38;5;28mlen\u001b[39m(lines)\u001b[38;5;241m-\u001b[39m\u001b[38;5;241m1\u001b[39m \u001b[38;5;129;01mor\u001b[39;00m j\u001b[38;5;241m+\u001b[39mdirection[\u001b[38;5;241m1\u001b[39m]\u001b[38;5;241m>\u001b[39m\u001b[38;5;241m-\u001b[39m\u001b[38;5;241m1\u001b[39m:\n\u001b[1;32m     28\u001b[0m         \u001b[38;5;28;01mif\u001b[39;00m [i\u001b[38;5;241m+\u001b[39mdirection[\u001b[38;5;241m0\u001b[39m],j\u001b[38;5;241m+\u001b[39mdirection[\u001b[38;5;241m1\u001b[39m]] \u001b[38;5;129;01mnot\u001b[39;00m \u001b[38;5;129;01min\u001b[39;00m visit:\n\u001b[0;32m---> 29\u001b[0m             \u001b[38;5;28;01mif\u001b[39;00m \u001b[43mTestObstacle\u001b[49m\u001b[43m(\u001b[49m\u001b[43ma\u001b[49m\u001b[43m,\u001b[49m\u001b[43mb\u001b[49m\u001b[43m,\u001b[49m\u001b[43mi\u001b[49m\u001b[43m,\u001b[49m\u001b[43mj\u001b[49m\u001b[43m,\u001b[49m\u001b[43mdirection\u001b[49m\u001b[43m,\u001b[49m\u001b[43mvisit\u001b[49m\u001b[43m,\u001b[49m\u001b[43mvis_dir\u001b[49m\u001b[43m)\u001b[49m:\n\u001b[1;32m     30\u001b[0m                 obstacle\u001b[38;5;241m.\u001b[39mappend([i\u001b[38;5;241m+\u001b[39mdirection[\u001b[38;5;241m0\u001b[39m],j\u001b[38;5;241m+\u001b[39mdirection[\u001b[38;5;241m1\u001b[39m]])\n\u001b[1;32m     31\u001b[0m \u001b[38;5;28mprint\u001b[39m(obstacle)\n",
            "Cell \u001b[0;32mIn[44], line 4\u001b[0m, in \u001b[0;36mTestObstacle\u001b[0;34m(a, b, i, j, direction, visit, vis_dir)\u001b[0m\n\u001b[1;32m      2\u001b[0m map_mod\u001b[38;5;241m=\u001b[39mcopy\u001b[38;5;241m.\u001b[39mdeepcopy(map_tb)\n\u001b[1;32m      3\u001b[0m map_mod[a][b]\u001b[38;5;241m=\u001b[39m\u001b[38;5;124m'\u001b[39m\u001b[38;5;124m.\u001b[39m\u001b[38;5;124m'\u001b[39m\n\u001b[0;32m----> 4\u001b[0m \u001b[43mmap_mod\u001b[49m\u001b[43m[\u001b[49m\u001b[43mi\u001b[49m\u001b[38;5;241;43m+\u001b[39;49m\u001b[43mdirection\u001b[49m\u001b[43m[\u001b[49m\u001b[38;5;241;43m0\u001b[39;49m\u001b[43m]\u001b[49m\u001b[43m]\u001b[49m[j\u001b[38;5;241m+\u001b[39mdirection[\u001b[38;5;241m1\u001b[39m]]\u001b[38;5;241m=\u001b[39m\u001b[38;5;124m'\u001b[39m\u001b[38;5;124m#\u001b[39m\u001b[38;5;124m'\u001b[39m\n\u001b[1;32m      5\u001b[0m visited\u001b[38;5;241m=\u001b[39mcopy\u001b[38;5;241m.\u001b[39mdeepcopy(visit)\n\u001b[1;32m      6\u001b[0m vis_dired\u001b[38;5;241m=\u001b[39mcopy\u001b[38;5;241m.\u001b[39mdeepcopy(vis_dir)\n",
            "\u001b[0;31mIndexError\u001b[0m: list index out of range"
          ],
          "output_type": "error"
        }
      ],
      "execution_count": 44
    },
    {
      "id": "127bd587-7f80-48f1-9de8-b4896987a49a",
      "cell_type": "code",
      "source": "a,b,direction=FindGuard(map_tb)\npassage=FindPassages(map_tb,a,b,direction)\nif (a,b) in passage:\n    passage.remove((a,b))\nnb_obs=0\nfor (i,j) in passage :\n    map_mod=copy.deepcopy(map_tb)\n    map_mod[i][j]='#'\n    if CheckLoop(map_mod,a,b,direction):\n        nb_obs=nb_obs+1\n\nprint(nb_obs)",
      "metadata": {
        "trusted": true
      },
      "outputs": [
        {
          "name": "stdout",
          "output_type": "stream",
          "text": "1562\n"
        }
      ],
      "execution_count": 51
    },
    {
      "id": "5752be08-5a1a-4dc9-a097-59103ad16259",
      "cell_type": "code",
      "source": "",
      "metadata": {
        "trusted": true
      },
      "outputs": [],
      "execution_count": null
    }
  ]
}