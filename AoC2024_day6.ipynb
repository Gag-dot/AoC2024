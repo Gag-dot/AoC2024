{
  "metadata": {
    "kernelspec": {
      "name": "python",
      "display_name": "Python (Pyodide)",
      "language": "python"
    },
    "language_info": {
      "codemirror_mode": {
        "name": "python",
        "version": 3
      },
      "file_extension": ".py",
      "mimetype": "text/x-python",
      "name": "python",
      "nbconvert_exporter": "python",
      "pygments_lexer": "ipython3",
      "version": "3.8"
    }
  },
  "nbformat_minor": 5,
  "nbformat": 4,
  "cells": [
    {
      "id": "e2ae657b-9708-429c-970f-5c1c5483de77",
      "cell_type": "code",
      "source": "import pandas as pd\nimport copy",
      "metadata": {
        "trusted": true
      },
      "outputs": [],
      "execution_count": 1
    },
    {
      "id": "3f10afa9-8a57-4d0f-9afc-87720e2c033c",
      "cell_type": "code",
      "source": "with open(\"input.txt\",\"r\") as file:\n    content=file.read()\n    lines=list(content.split(\"\\n\"))",
      "metadata": {
        "trusted": true
      },
      "outputs": [],
      "execution_count": 12
    },
    {
      "id": "88482524-a7ac-438d-8cee-46c8f47eafad",
      "cell_type": "code",
      "source": "map_tb=[]\ndict_dir={(-1,0):(0,1),(0,1):(1,0),(1,0):(0,-1),(0,-1):(-1,0)}\nfor line in lines:\n    t_line=[]\n    for i in range(len(line)):\n        t_line.append(line[i])\n    map_tb.append(t_line)",
      "metadata": {
        "trusted": true
      },
      "outputs": [],
      "execution_count": 13
    },
    {
      "id": "1309347d-b53c-4374-a9b8-47aa5eeed117",
      "cell_type": "code",
      "source": "def FindGuard(map_tb):\n    for i, row in enumerate(map_tb):\n        for j, value in enumerate(row):\n            if value=='^':\n                return i,j,(-1,0)                ",
      "metadata": {
        "trusted": true
      },
      "outputs": [],
      "execution_count": 14
    },
    {
      "id": "c849e77f-aa73-456e-bfa4-3e2b9def051f",
      "cell_type": "code",
      "source": "def NextStep(map_tb,i,j,direction):\n    if i+direction[0]>len(line)-1 or i+direction[0]<0 or j+direction[1]>len(lines)-1 or j+direction[1]<0:\n        return i,j,\"end\"\n    elif map_tb[i+direction[0]][j+direction[1]]=='#':\n        return i,j,dict_dir[direction]\n    else:\n        return i+direction[0],j+direction[1],direction",
      "metadata": {
        "trusted": true
      },
      "outputs": [],
      "execution_count": 5
    },
    {
      "id": "7d1bb723-482c-44b7-b1d3-5022afd5ee73",
      "cell_type": "code",
      "source": "def FindPassages(map_tb,i,j,direction):\n    visit=[]\n    while direction!='end':\n        visit.append([i,j])\n        i,j,direction=NextStep(map_tb,i,j,direction)\n    return set(tuple(item) for item in visit)\n    ",
      "metadata": {
        "trusted": true
      },
      "outputs": [],
      "execution_count": 6
    },
    {
      "id": "6b97f0a8-79dd-4cf5-afaf-faa6a498ef40",
      "cell_type": "code",
      "source": "def FindDouble(map_tb,i,j,direction):\n    visit=[]\n    d_vis=[]\n    while direction!='end':\n        if [i,j] in visit:\n            d_vis.append([i+direction[0],j+direction[1]])\n        visit.append([i,j])\n        i,j,direction=NextStep(map_tb,i,j,direction)\n    return d_vis",
      "metadata": {
        "trusted": true
      },
      "outputs": [],
      "execution_count": 7
    },
    {
      "id": "fe51511d-0b86-4dd5-bf04-58984ee63736",
      "cell_type": "code",
      "source": "i,j,direction=FindGuard(map_tb)\npassage=FindPassages(map_tb,i,j,direction)\nprint(len(passage))",
      "metadata": {
        "trusted": true
      },
      "outputs": [
        {
          "name": "stdout",
          "output_type": "stream",
          "text": "41\n"
        }
      ],
      "execution_count": 15
    },
    {
      "id": "723d2aa5-fbf6-4d8d-8d18-75b21db9902c",
      "cell_type": "code",
      "source": "def CheckLoop(map_mod,i,j,direction):\n    visit_d=[]\n    loop=False\n    while not loop and direction!='end':\n        if [i,j,direction] in visit_d:\n            loop=True\n        visit_d.append([i,j,direction])\n        i,j,direction=NextStep(map_mod,i,j,direction)\n    return loop",
      "metadata": {
        "trusted": true
      },
      "outputs": [],
      "execution_count": 9
    },
    {
      "id": "c3c136bd-485b-4493-93d0-4361bdfe3303",
      "cell_type": "code",
      "source": "a,b,direction=FindGuard(map_tb)\npassage=FindDouble(map_tb,a,b,direction)\nprint(passage)\nif [a,b] in passage:\n    passage.remove([a,b])\nnb_obs=0\nfor (i,j) in passage :\n    map_mod=copy.deepcopy(map_tb)\n    map_mod[i][j]='#'\n    if CheckLoop(map_mod,a,b,direction):\n        nb_obs=nb_obs+1\n        print(i,j)\nprint(nb_obs)",
      "metadata": {
        "trusted": true
      },
      "outputs": [
        {
          "name": "stdout",
          "output_type": "stream",
          "text": "[[1, 5], [2, 8], [6, 7], [6, 3], [5, 2], [4, 3], [4, 5], [5, 6], [7, 6], [8, 5], [7, 1], [7, 2], [7, 7], [8, 7]]\n6 3\n7 6\n7 7\n3\n"
        }
      ],
      "execution_count": 19
    },
    {
      "id": "db13116b-361b-42f7-aa06-6822b0d8c909",
      "cell_type": "code",
      "source": "",
      "metadata": {
        "trusted": true
      },
      "outputs": [],
      "execution_count": null
    }
  ]
}