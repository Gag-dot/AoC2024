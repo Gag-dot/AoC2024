{
  "metadata": {
    "kernelspec": {
      "name": "python",
      "display_name": "Python (Pyodide)",
      "language": "python"
    },
    "language_info": {
      "codemirror_mode": {
        "name": "python",
        "version": 3
      },
      "file_extension": ".py",
      "mimetype": "text/x-python",
      "name": "python",
      "nbconvert_exporter": "python",
      "pygments_lexer": "ipython3",
      "version": "3.8"
    }
  },
  "nbformat_minor": 5,
  "nbformat": 4,
  "cells": [
    {
      "id": "3a8c254d-9efb-42c3-8e35-8417eadca1f8",
      "cell_type": "code",
      "source": "import pandas as pd\nimport itertools\nimport math",
      "metadata": {
        "trusted": true
      },
      "outputs": [],
      "execution_count": 63
    },
    {
      "id": "935e7f32-fe3a-449a-a84e-af70f8b3dce8",
      "cell_type": "code",
      "source": "def GetData(filename):\n    data=[]\n    with open(filename,'r') as file:\n        for line in file:\n            raw=[]\n            for i in range(len(line.strip())):\n                raw.append(line[i])\n            data.append(raw)\n    return data         ",
      "metadata": {
        "trusted": true
      },
      "outputs": [],
      "execution_count": 6
    },
    {
      "id": "063f2d33-cb07-440a-8c04-bc9989d57d5d",
      "cell_type": "code",
      "source": "def FindAntennas(data):\n    ant={}\n    for i in range(len(data)):\n        for j in range(len(data[0])):\n            if data[i][j]!='.':\n                if data[i][j] not in ant:\n                    ant[data[i][j]]=[(i,j)]\n                else:\n                    ant[data[i][j]].append((i,j))\n    return ant",
      "metadata": {
        "trusted": true
      },
      "outputs": [],
      "execution_count": 23
    },
    {
      "id": "027238d3-4f5c-4e88-8915-5ea775e53f50",
      "cell_type": "code",
      "source": "def CalculateAntinodes(data,ant):\n    imax=len(data)\n    jmax=len(data[0])\n    nodes=[]\n    for pos in ant.values():\n        pairs = list(itertools.combinations(pos, 2))\n        for pair in pairs:\n            points=FindPoints(pair)\n            for point in points:\n                if point[0]<0 or point[0]>=imax or point[1]<0 or point[1]>=jmax:\n                    continue\n                else:\n                    if point not in nodes:\n                        nodes.append(point)\n    return nodes",
      "metadata": {
        "trusted": true
      },
      "outputs": [],
      "execution_count": 77
    },
    {
      "id": "cc2ca62c-152d-4a13-a2b4-13921e152974",
      "cell_type": "code",
      "source": "def FindPoints(pair):\n    A=pair[0]\n    B=pair[1]\n    return (((A[0]-(B[0]-A[0])), (A[1]-(B[1]-A[1]))), ((B[0]+(B[0]-A[0])), (B[1]+(B[1]-A[1]))))",
      "metadata": {
        "trusted": true
      },
      "outputs": [],
      "execution_count": 66
    },
    {
      "id": "2f0e4b6e-5499-4f81-919a-ece0a1644696",
      "cell_type": "code",
      "source": "def CountAntinodes(filename):\n    data=GetData(filename)\n    ant=FindAntennas(data)\n    nodes = CalculateAntinodes(data,ant)\n    print(len(nodes))",
      "metadata": {
        "trusted": true
      },
      "outputs": [],
      "execution_count": 79
    },
    {
      "id": "99d670de-5e52-46c6-9703-354989c7e0be",
      "cell_type": "code",
      "source": "CountAntinodes(\"data_day8.txt\")",
      "metadata": {
        "trusted": true
      },
      "outputs": [
        {
          "name": "stdout",
          "output_type": "stream",
          "text": "357\n"
        }
      ],
      "execution_count": 80
    },
    {
      "id": "a72cea94-c77d-4d4a-a924-6171bfb706af",
      "cell_type": "code",
      "source": "def CalculateAntinodes2(data,ant):\n    imax=len(data)\n    jmax=len(data[0])\n    nodes=[]\n    for pos in ant.values():\n        pairs = list(itertools.combinations(pos, 2))\n        for pair in pairs:\n            if pair[0] not in nodes:\n                nodes.append(pair[0])\n            if pair[1] not in nodes:\n                nodes.append(pair[1])\n            points=FindPoints2(pair,imax,jmax)\n            for point in points:\n                if point[0]<0 or point[0]>=imax or point[1]<0 or point[1]>=jmax:\n                    continue\n                else:\n                    if point not in nodes:\n                        nodes.append(point)\n    return nodes",
      "metadata": {
        "trusted": true
      },
      "outputs": [],
      "execution_count": 86
    },
    {
      "id": "5898d398-e910-4952-912f-5fb36e73e99f",
      "cell_type": "code",
      "source": "def FindPoints2(pair,imax,jmax):\n    A=pair[0]\n    B=pair[1]\n    x=A[0]-(B[0]-A[0])\n    y=A[1]-(B[1]-A[1])\n    points=[]\n    while x>-1 and x<imax and y>-1 and y<jmax:\n        points.append((x,y))\n        x=x-(B[0]-A[0])\n        y=y-(B[1]-A[1])\n    x=B[0]+(B[0]-A[0])\n    y=B[1]+(B[1]-A[1])\n    while x>-1 and x<imax and y>-1 and y<jmax:\n        points.append((x,y))\n        x=x+(B[0]-A[0])\n        y=y+(B[1]-A[1])\n    return points",
      "metadata": {
        "trusted": true
      },
      "outputs": [],
      "execution_count": 90
    },
    {
      "id": "6d6bb130-0d46-4d9e-86ae-06efafd8fa83",
      "cell_type": "code",
      "source": "def CountAntinodes2(filename):\n    data=GetData(filename)\n    ant=FindAntennas(data)\n    nodes = CalculateAntinodes2(data,ant)\n    print(nodes)",
      "metadata": {
        "trusted": true
      },
      "outputs": [],
      "execution_count": 88
    },
    {
      "id": "d34c2b4d-30eb-4b91-bcb2-d0ab1643b42f",
      "cell_type": "code",
      "source": "CountAntinodes2(\"input.txt\")",
      "metadata": {
        "trusted": true
      },
      "outputs": [
        {
          "name": "stdout",
          "output_type": "stream",
          "text": "[(1, 8), (2, 5), (0, 11), (3, 2), (3, 7), (5, 6), (7, 5), (9, 4), (11, 3), (4, 4), (7, 0), (1, 3), (0, 1), (4, 9), (5, 11), (0, 6), (6, 3), (8, 2), (10, 1), (2, 10), (5, 1), (8, 8), (2, 4), (11, 10), (9, 9), (7, 7), (6, 6), (5, 5), (3, 3), (2, 2), (1, 1), (0, 0), (10, 10), (11, 11)]\n"
        }
      ],
      "execution_count": 91
    },
    {
      "id": "8b2e3c7a-32c8-4873-9501-06d4b71bbc62",
      "cell_type": "code",
      "source": "",
      "metadata": {
        "trusted": true
      },
      "outputs": [],
      "execution_count": null
    }
  ]
}