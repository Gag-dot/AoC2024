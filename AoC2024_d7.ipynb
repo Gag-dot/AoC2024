{
  "metadata": {
    "kernelspec": {
      "name": "python",
      "display_name": "Python (Pyodide)",
      "language": "python"
    },
    "language_info": {
      "codemirror_mode": {
        "name": "python",
        "version": 3
      },
      "file_extension": ".py",
      "mimetype": "text/x-python",
      "name": "python",
      "nbconvert_exporter": "python",
      "pygments_lexer": "ipython3",
      "version": "3.8"
    }
  },
  "nbformat_minor": 5,
  "nbformat": 4,
  "cells": [
    {
      "id": "830282d3-ebb1-4787-9e64-5d7c0b851c8f",
      "cell_type": "code",
      "source": "import pandas as pd\nfrom collections import Counter",
      "metadata": {
        "trusted": true
      },
      "outputs": [],
      "execution_count": 2
    },
    {
      "id": "eb70c949-c9c6-4f9d-982b-1734b5f031d4",
      "cell_type": "code",
      "source": "def ReadData(filename):\n    with open(filename,\"r\") as file:\n        data=[]\n        for line in file:\n            dic={}\n            d_l=line.strip().split(\": \")\n            dic[\"tot\"]=d_l[0]\n            dic[\"num\"]=list(d_l[1].split(\" \"))\n            data.append(dic)\n    return data",
      "metadata": {
        "trusted": true
      },
      "outputs": [],
      "execution_count": 21
    },
    {
      "id": "6d606766-99ea-46e8-a95e-d2dfc67599a7",
      "cell_type": "code",
      "source": "def GenerateProp(res,op):\n    prop=['+','*']\n    for i in range(len(op)-2):\n        prop=prop*2\n        count = Counter(prop)\n        prop=list(count.elements())\n        for j in range(len(prop)):\n            if j%2==0:\n                prop[j]=prop[j]+'+'\n            else:\n                prop[j]=prop[j]+'*'\n    return prop",
      "metadata": {
        "trusted": true
      },
      "outputs": [],
      "execution_count": 4
    },
    {
      "id": "f314d2ec-1e77-4904-acea-e6d15c8dea78",
      "cell_type": "code",
      "source": "def TestValidity(res,op,prop):\n    equations=[]\n    for signs in prop:\n        eq=op[0]\n        for i in range(len(op)-1):\n            eq='('+eq+signs[i]+op[i+1]+')'\n        equations.append(eq)\n    for equation in equations:\n        #print(equation,'=',eval(equation))\n        if int(res)==eval(equation):\n            #print(res,'=',equation.replace('(', '').replace(')',''))\n            return True\n    return False",
      "metadata": {
        "trusted": true
      },
      "outputs": [],
      "execution_count": 15
    },
    {
      "id": "44784e6c-1a03-4043-9d36-00dcfd2db32c",
      "cell_type": "code",
      "source": "def EvaluateSumValid(filename):\n    data=ReadData(filename)\n    sum_val=0\n    for i in range(len(data)):\n        prop=GenerateProp(data[i]['tot'],data[i]['num'])\n        if TestValidity(data[i]['tot'],data[i]['num'],prop):\n            sum_val=sum_val+int(data[i]['tot'])\n    return(sum_val)\n",
      "metadata": {
        "trusted": true
      },
      "outputs": [],
      "execution_count": 59
    },
    {
      "id": "23635e62-75a1-4ad1-8e1d-6bf4fc83c1c8",
      "cell_type": "code",
      "source": "EvaluateSumValid(\"data_day7.txt\")",
      "metadata": {
        "trusted": true
      },
      "outputs": [
        {
          "execution_count": 60,
          "output_type": "execute_result",
          "data": {
            "text/plain": "850435817339"
          },
          "metadata": {}
        }
      ],
      "execution_count": 60
    },
    {
      "id": "282bac8d-f72d-43ce-9833-5b9715a6a8c8",
      "cell_type": "code",
      "source": "def CheckValid2(res,remaining,total):\n    #print(type(res), type(remaining), type(total))\n    if total>res:\n        return False\n    elif not remaining:\n        return total==res\n    else:\n        print(total+remaining[0], total*remaining[0], int(str(total)+str(remaining[0])))\n        return CheckValid2(res,remaining[1:],total+remaining[0]) or CheckValid2(res,remaining[1:],total*remaining[0]) or CheckValid2(res,remaining[1:],int(str(total)+str(remaining[0])))",
      "metadata": {
        "trusted": true
      },
      "outputs": [],
      "execution_count": 71
    },
    {
      "id": "16110ff5-c1a4-4205-8b02-c1c67945a573",
      "cell_type": "code",
      "source": "def EvaluateSumValid2(filename):\n    data=ReadData(filename)\n    sum_val=0\n    for i in range(len(data)):\n        data[i]['tot']=int(data[i]['tot'])\n        data[i]['num']=list(map(int,data[i]['num']))\n        #print(data[i]['tot'],data[i]['num'][1:],data[i]['num'][0])\n        if CheckValid2(data[i]['tot'],data[i]['num'][1:],data[i]['num'][0]):\n            sum_val=sum_val+int(data[i]['tot'])\n    return(sum_val)\n",
      "metadata": {
        "trusted": true
      },
      "outputs": [],
      "execution_count": 73
    },
    {
      "id": "8b370f53-97f3-43cf-9db1-dd6258152206",
      "cell_type": "code",
      "source": "EvaluateSumValid2(\"input.txt\")",
      "metadata": {
        "trusted": true
      },
      "outputs": [
        {
          "name": "stdout",
          "output_type": "stream",
          "text": "29 190 1019\n121 3240 8140\n148 3267 12127\n22 85 175\n21 90 156\n14 48 68\n20 84 146\n35 300 2015\n99 1260 8415\n161 2190 14615\n54 288 486\n69 810 5415\n303 4320 28815\n501 7290 48615\n26 160 1610\n39 338 2613\n173 2080 16013\n1623 20930 161013\n25 136 178\n39 350 2514\n150 1904 13614\n192 2492 17814\n16 63 97\n34 288 1618\n47 442 3413\n301 3744 28813\n1631 21034 161813\n81 1134 6318\n94 1053 8113\n1147 14742 113413\n6331 82134 631813\n115 1746 9718\n128 1495 11513\n1759 22698 174613\n9731 126334 971813\n17 66 116\n33 272 1716\n53 660 3320\n292 5440 27220\n"
        },
        {
          "execution_count": 74,
          "output_type": "execute_result",
          "data": {
            "text/plain": "11387"
          },
          "metadata": {}
        }
      ],
      "execution_count": 74
    },
    {
      "id": "641c01d6-3240-487b-ba5c-afb661b89c66",
      "cell_type": "code",
      "source": "",
      "metadata": {
        "trusted": true
      },
      "outputs": [],
      "execution_count": null
    }
  ]
}