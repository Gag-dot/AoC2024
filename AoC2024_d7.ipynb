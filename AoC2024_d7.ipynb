{
  "metadata": {
    "kernelspec": {
      "name": "python",
      "display_name": "Python (Pyodide)",
      "language": "python"
    },
    "language_info": {
      "codemirror_mode": {
        "name": "python",
        "version": 3
      },
      "file_extension": ".py",
      "mimetype": "text/x-python",
      "name": "python",
      "nbconvert_exporter": "python",
      "pygments_lexer": "ipython3",
      "version": "3.8"
    }
  },
  "nbformat_minor": 5,
  "nbformat": 4,
  "cells": [
    {
      "id": "830282d3-ebb1-4787-9e64-5d7c0b851c8f",
      "cell_type": "code",
      "source": "import pandas as pd\nfrom collections import Counter",
      "metadata": {
        "trusted": true
      },
      "outputs": [],
      "execution_count": 2
    },
    {
      "id": "eb70c949-c9c6-4f9d-982b-1734b5f031d4",
      "cell_type": "code",
      "source": "with open(\"data_day7.txt\",\"r\") as file:\n    data={}\n    for line in file:\n        d_l=line.strip().split(\": \")\n        data[d_l[0]]=list(d_l[1].split(\" \"))",
      "metadata": {
        "trusted": true
      },
      "outputs": [],
      "execution_count": 3
    },
    {
      "id": "6d606766-99ea-46e8-a95e-d2dfc67599a7",
      "cell_type": "code",
      "source": "def GenerateProp(res,op):\n    prop=['+','*']\n    for i in range(len(op)-2):\n        prop=prop*2\n        count = Counter(prop)\n        prop=list(count.elements())\n        for j in range(len(prop)):\n            if j%2==0:\n                prop[j]=prop[j]+'+'\n            else:\n                prop[j]=prop[j]+'*'\n    return prop",
      "metadata": {
        "trusted": true
      },
      "outputs": [],
      "execution_count": 4
    },
    {
      "id": "f314d2ec-1e77-4904-acea-e6d15c8dea78",
      "cell_type": "code",
      "source": "def TestValidity(res,op,prop):\n    equations=[]\n    for signs in prop:\n        eq=op[0]\n        for i in range(len(op)-1):\n            eq='('+eq+signs[i]+op[i+1]+')'\n        equations.append(eq)\n    for equation in equations:\n        #print(equation,'=',eval(equation))\n        if int(res)==eval(equation):\n            return True\n    return False",
      "metadata": {
        "trusted": true
      },
      "outputs": [],
      "execution_count": 5
    },
    {
      "id": "44784e6c-1a03-4043-9d36-00dcfd2db32c",
      "cell_type": "code",
      "source": "def EvaluateSumValid(data):\n    sum_val=0\n    for key, value in data.items():\n        prop=GenerateProp(key,value)\n        if TestValidity(key,value,prop):\n            sum_val=sum_val+int(key)\n    print(sum_val)\n\nEvaluateSumValid(data)",
      "metadata": {
        "trusted": true
      },
      "outputs": [
        {
          "name": "stdout",
          "output_type": "stream",
          "text": "850435815844\n"
        }
      ],
      "execution_count": 6
    },
    {
      "id": "282bac8d-f72d-43ce-9833-5b9715a6a8c8",
      "cell_type": "code",
      "source": "",
      "metadata": {
        "trusted": true
      },
      "outputs": [],
      "execution_count": null
    }
  ]
}