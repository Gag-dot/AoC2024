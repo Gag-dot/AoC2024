{
  "metadata": {
    "kernelspec": {
      "name": "python",
      "display_name": "Python (Pyodide)",
      "language": "python"
    },
    "language_info": {
      "codemirror_mode": {
        "name": "python",
        "version": 3
      },
      "file_extension": ".py",
      "mimetype": "text/x-python",
      "name": "python",
      "nbconvert_exporter": "python",
      "pygments_lexer": "ipython3",
      "version": "3.8"
    }
  },
  "nbformat_minor": 5,
  "nbformat": 4,
  "cells": [
    {
      "id": "361d1ffc-4612-499a-990e-267024f2c6ba",
      "cell_type": "code",
      "source": "import pandas as pd",
      "metadata": {
        "trusted": true
      },
      "outputs": [],
      "execution_count": 1
    },
    {
      "id": "8be454e7-0f5e-49fa-b9f0-9788125b8c36",
      "cell_type": "code",
      "source": "def ReadData(filename):\n    data={}\n    with open(filename,\"r\") as file:\n        for line in file:\n            dl=line.strip().split(\": \")\n            data[int(dl[0])]=list(map(int,dl[1].split(\" \")))\n    return data",
      "metadata": {
        "trusted": true
      },
      "outputs": [],
      "execution_count": 40
    },
    {
      "id": "df2e238a-e011-4e88-ab7f-4b6d86283bc8",
      "cell_type": "code",
      "source": "def CheckVal(res,remaining,total):\n    if total>res:\n        return False\n    elif remaining==[]:\n        return res==total\n    else:\n        return CheckVal(res,remaining[1:],total+remaining[0]) or CheckVal(res,remaining[1:],total*remaining[0])",
      "metadata": {
        "trusted": true
      },
      "outputs": [],
      "execution_count": 25
    },
    {
      "id": "b189f2e2-28e5-4f15-8dfd-b1a4c381483f",
      "cell_type": "code",
      "source": "def TotalCalib(filename):\n    data=ReadData(filename)\n    sum_val=0\n    for res, num in data.items():\n        if CheckVal(res,num[1:],num[0]):\n            sum_val+=res\n    return sum_val",
      "metadata": {
        "trusted": true
      },
      "outputs": [],
      "execution_count": 39
    },
    {
      "id": "b6ed7cfc-feb9-4462-891b-7a72c17a64bd",
      "cell_type": "code",
      "source": "TotalCalib(\"data_day7.txt\")",
      "metadata": {
        "trusted": true
      },
      "outputs": [
        {
          "name": "stdout",
          "output_type": "stream",
          "text": "[11, 66, 47, 463, 75]\n"
        },
        {
          "execution_count": 37,
          "output_type": "execute_result",
          "data": {
            "text/plain": "850435815844"
          },
          "metadata": {}
        }
      ],
      "execution_count": 37
    },
    {
      "id": "ceeb9d24-0dd0-4181-bf3a-a5a19ab04b73",
      "cell_type": "code",
      "source": "",
      "metadata": {
        "trusted": true
      },
      "outputs": [],
      "execution_count": null
    }
  ]
}