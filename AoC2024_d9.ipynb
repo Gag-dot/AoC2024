{
  "metadata": {
    "kernelspec": {
      "name": "python",
      "display_name": "Python (Pyodide)",
      "language": "python"
    },
    "language_info": {
      "codemirror_mode": {
        "name": "python",
        "version": 3
      },
      "file_extension": ".py",
      "mimetype": "text/x-python",
      "name": "python",
      "nbconvert_exporter": "python",
      "pygments_lexer": "ipython3",
      "version": "3.8"
    }
  },
  "nbformat_minor": 5,
  "nbformat": 4,
  "cells": [
    {
      "id": "335847b6-d397-4344-b9ae-d5f9a719c5df",
      "cell_type": "code",
      "source": "import pandas as pd",
      "metadata": {
        "trusted": true
      },
      "outputs": [],
      "execution_count": 1
    },
    {
      "id": "22e85722-5d0c-4344-b476-27f6af2adfc5",
      "cell_type": "code",
      "source": "def ReadFile(filename):\n    with open(filename,\"r\") as file:\n        data=file.read().strip()\n    return data",
      "metadata": {
        "trusted": true
      },
      "outputs": [],
      "execution_count": 2
    },
    {
      "id": "27657b03-3f15-47cc-b1c4-cd3ec1bbbe07",
      "cell_type": "code",
      "source": "def ConvD(data):\n    line=[]\n    for i in range(len(data)) :\n        if i%2==0:\n            for j in range(int(data[i])):\n                line.append(int(i/2))\n        else:\n            for j in range(int(data[i])):\n                line.append('.')\n    return line",
      "metadata": {
        "trusted": true
      },
      "outputs": [],
      "execution_count": 47
    },
    {
      "id": "abe0045b-f2ad-48ea-a848-8ef061afadf3",
      "cell_type": "code",
      "source": "def Permut(line):\n    jmax=len(line)\n    for i in range(len(line)):\n        if line[i]=='.' and line[i:]!=(len(line)-i)*['.']:\n            hole=True\n            #print('i',i)\n            j=jmax\n            while hole and j>-1:\n                j-=1\n                #print(j)\n                if line[j]!='.':\n                    line[i]=line[j]\n                    line[j]='.'\n                    jmax=j\n                    hole=False\n    return line, jmax",
      "metadata": {
        "trusted": true
      },
      "outputs": [],
      "execution_count": 53
    },
    {
      "id": "d6265c5f-44af-4704-8089-9d5df86537e8",
      "cell_type": "code",
      "source": "def CalcSum(line,jmax):\n    c_sum=0\n    for j in range(jmax):\n        c_sum+=line[j]*j\n    return c_sum",
      "metadata": {
        "trusted": true
      },
      "outputs": [],
      "execution_count": 56
    },
    {
      "id": "26496884-ed95-4340-934e-50fe609049c7",
      "cell_type": "code",
      "source": "def CheckSum(filename):\n    data=ReadFile(filename)\n    line=ConvD(data)\n    #print(line)\n    mod_line, jmax=Permut(line)\n    #print(mod_line)\n    #print(jmax)\n    print(CalcSum(mod_line,jmax))",
      "metadata": {
        "trusted": true
      },
      "outputs": [],
      "execution_count": 59
    },
    {
      "id": "909aa7c4-c8ad-4795-9d8e-000a6338b373",
      "cell_type": "code",
      "source": "CheckSum(\"data_day9.txt\")",
      "metadata": {
        "trusted": true
      },
      "outputs": [
        {
          "name": "stdout",
          "output_type": "stream",
          "text": "6216544403458\n"
        }
      ],
      "execution_count": 62
    },
    {
      "id": "f208e6da-0c2d-4f29-9baa-b57501edd38c",
      "cell_type": "code",
      "source": "def PermutBlock(line):\n    imax=len(line)-1\n    while imax>-1:\n        if line[imax]=='.':\n            imax-=1\n        else:\n            to_move=[]\n            numb=line[imax]\n            #print('Numbers to move',numb)\n            while numb==line[imax]:\n                to_move.append(numb)\n                imax-=1\n            #print('number of numbers',len(to_move))\n            #print('min index of this number',imax+1)\n            replace=False\n            i=-1\n            while i<imax+1 and not replace:\n                i+=1\n                if line[i:i+len(to_move)]==len(to_move)*['.']:\n                    #print('moved to index',i)\n                    replace=True\n                    line[i:i+len(to_move)]=to_move\n                    line[imax+1:imax+len(to_move)+1]=len(to_move)*['.']\n    return line\n            ",
      "metadata": {
        "trusted": true
      },
      "outputs": [],
      "execution_count": 84
    },
    {
      "id": "cc91631d-49f0-4e77-87a0-cedcd94f89d8",
      "cell_type": "code",
      "source": "def CalcBlock(line):\n    c_sum=0\n    for j in range(len(line)):\n        if line[j]!='.':\n            c_sum+=line[j]*j\n    return c_sum",
      "metadata": {
        "trusted": true
      },
      "outputs": [],
      "execution_count": 87
    },
    {
      "id": "628686c1-e74c-41f0-8a18-ab7afd9d84a3",
      "cell_type": "code",
      "source": "def CheckSumBlock(filename):\n    data=ReadFile(filename)\n    line=ConvD(data)\n    #print(line)\n    mod_line=PermutBlock(line)\n    #print(mod_line)\n    print(CalcBlock(mod_line))",
      "metadata": {
        "trusted": true
      },
      "outputs": [],
      "execution_count": 90
    },
    {
      "id": "ba1ef033-429f-4a2d-b07f-00ed1eed0caf",
      "cell_type": "code",
      "source": "CheckSumBlock(\"data_day9.txt\")",
      "metadata": {
        "trusted": true
      },
      "outputs": [
        {
          "name": "stdout",
          "output_type": "stream",
          "text": "6237075041489\n"
        }
      ],
      "execution_count": 92
    },
    {
      "id": "8e1aea2f-d7a0-4f18-85ac-d96f67b8116c",
      "cell_type": "code",
      "source": "",
      "metadata": {
        "trusted": true
      },
      "outputs": [],
      "execution_count": null
    }
  ]
}