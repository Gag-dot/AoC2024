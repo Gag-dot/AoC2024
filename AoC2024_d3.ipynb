{
  "metadata": {
    "kernelspec": {
      "name": "python",
      "display_name": "Python (Pyodide)",
      "language": "python"
    },
    "language_info": {
      "codemirror_mode": {
        "name": "python",
        "version": 3
      },
      "file_extension": ".py",
      "mimetype": "text/x-python",
      "name": "python",
      "nbconvert_exporter": "python",
      "pygments_lexer": "ipython3",
      "version": "3.8"
    }
  },
  "nbformat_minor": 5,
  "nbformat": 4,
  "cells": [
    {
      "id": "ff080205-f174-4b78-9f9c-f47dcc4b4cee",
      "cell_type": "code",
      "source": "import pandas as pd",
      "metadata": {
        "trusted": true
      },
      "outputs": [],
      "execution_count": 1
    },
    {
      "id": "a2ffe28e-5272-4d61-b464-f8631020375f",
      "cell_type": "code",
      "source": "with open('data_day3.txt', 'r') as file:\n    content = file.read()\n    data = list(content.split(\"mul\"))",
      "metadata": {
        "trusted": true
      },
      "outputs": [],
      "execution_count": 46
    },
    {
      "id": "6877e58f-0b14-4c1c-bf73-95f2e9c60458",
      "cell_type": "code",
      "source": "term_sum = 0 \nfor element in data:\n    if '(' in element and ')' in element:\n        mul = list(element.split(\"(\"))[1].split(\")\")[0].split(\",\")\n        if len(mul)==2 and len(mul[0])<4 and len(mul[1])<4 and ' ' not in mul[0] and ' ' not in mul[1]:\n            try :\n                term = int(mul[0])*int(mul[1])\n                term_sum = term_sum + term\n            except ValueError:\n                continue\nprint(term_sum)",
      "metadata": {
        "trusted": true
      },
      "outputs": [
        {
          "name": "stdout",
          "output_type": "stream",
          "text": "184445598\n"
        }
      ],
      "execution_count": 47
    },
    {
      "id": "3237201f-6db3-495d-93ac-28529eed50a8",
      "cell_type": "code",
      "source": "",
      "metadata": {
        "trusted": true
      },
      "outputs": [],
      "execution_count": null
    }
  ]
}