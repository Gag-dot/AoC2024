{
  "metadata": {
    "kernelspec": {
      "name": "python",
      "display_name": "Python (Pyodide)",
      "language": "python"
    },
    "language_info": {
      "codemirror_mode": {
        "name": "python",
        "version": 3
      },
      "file_extension": ".py",
      "mimetype": "text/x-python",
      "name": "python",
      "nbconvert_exporter": "python",
      "pygments_lexer": "ipython3",
      "version": "3.8"
    }
  },
  "nbformat_minor": 5,
  "nbformat": 4,
  "cells": [
    {
      "id": "ff080205-f174-4b78-9f9c-f47dcc4b4cee",
      "cell_type": "code",
      "source": "import pandas as pd",
      "metadata": {
        "trusted": true
      },
      "outputs": [],
      "execution_count": 1
    },
    {
      "id": "a2ffe28e-5272-4d61-b464-f8631020375f",
      "cell_type": "code",
      "source": "with open('data_day3.txt', 'r') as file:\n    content = file.read()\n    data = list(content.split(\"mul(\"))",
      "metadata": {
        "trusted": true
      },
      "outputs": [],
      "execution_count": 4
    },
    {
      "id": "6877e58f-0b14-4c1c-bf73-95f2e9c60458",
      "cell_type": "code",
      "source": "term_sum = 0 \nfor element in data:\n    if ')' in element:\n        mul = list(element.split(\")\"))[0].split(\",\")\n        if len(mul)==2 and len(mul[0])<4 and len(mul[1])<4 and ' ' not in mul[0] and ' ' not in mul[1]:\n            try :\n                term = int(mul[0])*int(mul[1])\n                term_sum = term_sum + term\n            except ValueError:\n                continue\nprint(term_sum)",
      "metadata": {
        "trusted": true
      },
      "outputs": [
        {
          "name": "stdout",
          "output_type": "stream",
          "text": "183788984\n"
        }
      ],
      "execution_count": 6
    },
    {
      "id": "3237201f-6db3-495d-93ac-28529eed50a8",
      "cell_type": "code",
      "source": "with open('input.txt', 'r') as file:\n    content = file.read()\n    data = list(content.split(\"do\"))\ndata",
      "metadata": {
        "trusted": true
      },
      "outputs": [
        {
          "execution_count": 8,
          "output_type": "execute_result",
          "data": {
            "text/plain": "['xmul(2,4)&mul[3,7]!^',\n \"n't()_mul(5,5)+mul(32,64](mul(11,8)un\",\n '()?mul(8,5))']"
          },
          "metadata": {}
        }
      ],
      "execution_count": 8
    },
    {
      "id": "de532873-cb2a-45ca-a428-a7848fc7d60a",
      "cell_type": "code",
      "source": "df = pd.DataFrame(columns=[\"Element\",\"Activated\"])\nactivated = True\ni=0\ndf.loc[i] = [data[i]] + [activated]\nfor element in data[1:]:\n    i=i+1\n    if len(element) > 4 and element[0:5]==\"n't()\" :\n        activated = False\n        df.loc[i] = [element] + [activated]\n    elif len(element)>1 and element[0:2]==\"()\":\n        activated = True\n        df.loc[i] = [element] + [activated]\n    else:\n        df.loc[i] = [element] + [activated]\ndf",
      "metadata": {
        "trusted": true
      },
      "outputs": [
        {
          "execution_count": 20,
          "output_type": "execute_result",
          "data": {
            "text/plain": "                                 Element  Activated\n0                   xmul(2,4)&mul[3,7]!^       True\n1  n't()_mul(5,5)+mul(32,64](mul(11,8)un      False\n2                           ()?mul(8,5))       True",
            "text/html": "<div>\n<style scoped>\n    .dataframe tbody tr th:only-of-type {\n        vertical-align: middle;\n    }\n\n    .dataframe tbody tr th {\n        vertical-align: top;\n    }\n\n    .dataframe thead th {\n        text-align: right;\n    }\n</style>\n<table border=\"1\" class=\"dataframe\">\n  <thead>\n    <tr style=\"text-align: right;\">\n      <th></th>\n      <th>Element</th>\n      <th>Activated</th>\n    </tr>\n  </thead>\n  <tbody>\n    <tr>\n      <th>0</th>\n      <td>xmul(2,4)&amp;mul[3,7]!^</td>\n      <td>True</td>\n    </tr>\n    <tr>\n      <th>1</th>\n      <td>n't()_mul(5,5)+mul(32,64](mul(11,8)un</td>\n      <td>False</td>\n    </tr>\n    <tr>\n      <th>2</th>\n      <td>()?mul(8,5))</td>\n      <td>True</td>\n    </tr>\n  </tbody>\n</table>\n</div>"
          },
          "metadata": {}
        }
      ],
      "execution_count": 20
    },
    {
      "id": "2b9a7702-030e-45ea-8981-4ef0c0dd9336",
      "cell_type": "code",
      "source": "term_sum = 0 \nfor _, row in df.iterrows():\n    if row[\"Activated\"]:\n        el = list(row[\"Element\"].split(\"mul(\"))\n        print(\"el: \",el)\n        for element in el:\n            if ')' in element:\n                mul = list(element.split(\")\"))[0].split(\",\")\n                print(\"mul: \", mul)\n                if len(mul)==2 and len(mul[0])<4 and len(mul[1])<4 and ' ' not in mul[0] and ' ' not in mul[1]:\n                    try :\n                        term = int(mul[0])*int(mul[1])\n                        term_sum = term_sum + term\n                    except ValueError:\n                        continue\nprint(term_sum)",
      "metadata": {
        "trusted": true
      },
      "outputs": [
        {
          "name": "stdout",
          "output_type": "stream",
          "text": "el:  ['x', '2,4)&mul[3,7]!^']\nmul:  ['2', '4']\nel:  ['()?', '8,5))']\nmul:  ['(']\nmul:  ['8', '5']\n48\n"
        }
      ],
      "execution_count": 28
    },
    {
      "id": "7f92fdcb-0aa6-4dc6-80db-551f71d2ded7",
      "cell_type": "code",
      "source": "",
      "metadata": {
        "trusted": true
      },
      "outputs": [],
      "execution_count": null
    }
  ]
}