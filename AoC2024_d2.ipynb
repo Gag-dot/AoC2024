{
  "metadata": {
    "kernelspec": {
      "name": "python",
      "display_name": "Python (Pyodide)",
      "language": "python"
    },
    "language_info": {
      "codemirror_mode": {
        "name": "python",
        "version": 3
      },
      "file_extension": ".py",
      "mimetype": "text/x-python",
      "name": "python",
      "nbconvert_exporter": "python",
      "pygments_lexer": "ipython3",
      "version": "3.8"
    }
  },
  "nbformat_minor": 5,
  "nbformat": 4,
  "cells": [
    {
      "id": "510b0715-978b-4bd5-87aa-0378c89cdaa5",
      "cell_type": "code",
      "source": "import pandas as pd",
      "metadata": {
        "trusted": true
      },
      "outputs": [],
      "execution_count": 1
    },
    {
      "id": "f85290bd-5741-486f-9006-625967b065f6",
      "cell_type": "code",
      "source": "def CheckSigns(numbers):\n    if  len(numbers)<1 :\n        return True\n    else:\n        sign = numbers[0]>0\n        for num in numbers[1:]:\n            if (num>0)!= sign:\n                return False\n\n        return True\n            ",
      "metadata": {
        "trusted": true
      },
      "outputs": [],
      "execution_count": 27
    },
    {
      "id": "205898bf-863c-4451-bead-8e55103048f4",
      "cell_type": "code",
      "source": "nb_safe = 0\nwith open('data_day2.txt', 'r') as file:\n    for line in file:\n        row = list(map(int, line.strip().split()))\n        row_conv=[]\n        for i in range(1,len(row)):\n            row_conv.append(row[i]-row[i-1])\n        if CheckSigns(row_conv) :\n            if abs(max(row_conv, key=abs))<4:\n                if abs(min(row_conv, key=abs))>0:\n                    nb_safe=nb_safe+1\n\nprint(nb_safe, \"lines are safe\")",
      "metadata": {
        "trusted": true
      },
      "outputs": [
        {
          "name": "stdout",
          "output_type": "stream",
          "text": "549 lines are safe\n"
        }
      ],
      "execution_count": 33
    },
    {
      "id": "d5953655-cfd3-42ad-af58-d12a47b9b46b",
      "cell_type": "code",
      "source": "table_to_check = []\nnb_safe = 0\nwith open('input.txt', 'r') as file:\n    for line in file:\n        row = list(map(int, line.strip().split()))\n        row_conv=[]\n        for i in range(1,len(row)):\n            row_conv.append(row[i]-row[i-1])\n        if CheckSafe(row_conv):\n            nb_safe=nb_safe+1\n        else:\n            table_to_check.append(row_conv)\n\nprint(nb_safe, \"lines are safe\")\nprint(table_to_check)",
      "metadata": {
        "trusted": true
      },
      "outputs": [
        {
          "name": "stdout",
          "output_type": "stream",
          "text": "2 lines are safe\n[[1, 5, 1, 1], [-2, -1, -4, -1], [2, -1, 2, 1], [-2, -2, 0, -3]]\n"
        }
      ],
      "execution_count": 41
    },
    {
      "id": "d991387c-6a6e-4c72-a4b1-364a4eb09a2e",
      "cell_type": "code",
      "source": "def generate_derived_lists(numbers):\n    derived_lists = []\n    \n    derived_lists.append(numbers[1:])  \n    derived_lists.append(numbers[:-1])  \n    \n    for i in range(len(numbers) - 1):\n        new_list = numbers[:i] + [numbers[i] + numbers[i+1]] + numbers[i+2:]\n        derived_lists.append(new_list)\n    \n    return derived_lists",
      "metadata": {
        "trusted": true
      },
      "outputs": [],
      "execution_count": 39
    },
    {
      "id": "392e9ab6-f80a-4bd1-973a-8359c2c2ee70",
      "cell_type": "code",
      "source": "def CheckSafe(numbers):\n    if CheckSigns(numbers) :\n        if abs(max(numbers, key=abs))<4:\n            if abs(min(numbers, key=abs))>0:\n                return True\n            else:\n                return False\n        else:\n            return False\n    else:\n        return False",
      "metadata": {
        "trusted": true
      },
      "outputs": [],
      "execution_count": 40
    },
    {
      "id": "cb3eec41-f32e-4121-9b40-bc08647a0ff8",
      "cell_type": "code",
      "source": "table_to_check = []\nnb_safe = 0\nwith open('input.txt', 'r') as file:\n    for line in file:\n        row = list(map(int, line.strip().split()))\n        row_conv=[]\n        for i in range(1,len(row)):\n            row_conv.append(row[i]-row[i-1])\n        if CheckSafe(row_conv):\n            nb_safe=nb_safe+1\n        else:\n            table_to_check.append(row_conv)\n\nfor row in table_to_check:\n    rows=generate_derived_lists(row)\n    Unsafe = True\n    for dlist in rows:\n        if CheckSafe(dlist) and Unsafe:\n            Unsafe=False\n\nprint(nb_safe, \"lines are safe\")",
      "metadata": {
        "trusted": true
      },
      "outputs": [
        {
          "name": "stdout",
          "output_type": "stream",
          "text": "[2, -1, 2, 1] can become safe [1, 2, 1]\n[-2, -2, 0, -3] can become safe [-2, -2, -3]\n"
        }
      ],
      "execution_count": 45
    },
    {
      "id": "bd9a502d-4f2b-4704-9551-a55d373e930f",
      "cell_type": "code",
      "source": "",
      "metadata": {
        "trusted": true
      },
      "outputs": [],
      "execution_count": null
    }
  ]
}