{
  "metadata": {
    "kernelspec": {
      "name": "python",
      "display_name": "Python (Pyodide)",
      "language": "python"
    },
    "language_info": {
      "codemirror_mode": {
        "name": "python",
        "version": 3
      },
      "file_extension": ".py",
      "mimetype": "text/x-python",
      "name": "python",
      "nbconvert_exporter": "python",
      "pygments_lexer": "ipython3",
      "version": "3.8"
    }
  },
  "nbformat_minor": 5,
  "nbformat": 4,
  "cells": [
    {
      "id": "35678ebf-5762-4c1c-ae55-91f235da009e",
      "cell_type": "code",
      "source": "import pandas as pd",
      "metadata": {
        "trusted": true
      },
      "outputs": [],
      "execution_count": 1
    },
    {
      "id": "bc87c5cb-501e-4456-9a40-1ef6c4478f81",
      "cell_type": "code",
      "source": "D_array=[]\nwith open(\"data_day4.txt\", \"r\") as file:\n    for line in file:\n        line=line.strip()\n        char_list = list(line)\n        D_array.append(char_list)\n\nref = ['X','M','A','S']\n",
      "metadata": {
        "trusted": true
      },
      "outputs": [],
      "execution_count": 81
    },
    {
      "id": "e084cf9a-ab57-46a8-a2b6-aa0a0cafe8e9",
      "cell_type": "code",
      "source": "def Check_hor1(i,j):\n    if j<len(D_array[i])-3:\n        if all(D_array[i][j+k] == ref[k] for k in range(1, 4)):\n            return True\n        else:\n            return False\n    else:\n        return False",
      "metadata": {
        "trusted": true
      },
      "outputs": [],
      "execution_count": 82
    },
    {
      "id": "16c47c30-4ac2-4fdb-8f3f-bd4fc7794ffc",
      "cell_type": "code",
      "source": "def Check_hor2(i,j):\n    if j>2:\n        if all(D_array[i][j-z] == ref[z] for z in range(1,4)):\n            return True\n        else:\n            return False\n    else:\n        return False",
      "metadata": {
        "trusted": true
      },
      "outputs": [],
      "execution_count": 83
    },
    {
      "id": "5fbf04ab-9cf0-470f-ba9d-d78032fabf7b",
      "cell_type": "code",
      "source": "def Check_ver1(i,j):\n    if i<len(D_array)-3:\n        if all(D_array[i+z][j] == ref[z] for z in range(1,4)):\n            return True\n        else:\n            return False\n    else:\n        return False",
      "metadata": {
        "trusted": true
      },
      "outputs": [],
      "execution_count": 84
    },
    {
      "id": "4c5abd18-b85f-4f2a-90d1-7fd4eb8b43f9",
      "cell_type": "code",
      "source": "def Check_ver2(i,j):\n    if i>2:\n        if all(D_array[i-z][j] == ref[z] for z in range(1,4)):\n            return True\n        else:\n            return False\n    else:\n        return False",
      "metadata": {
        "trusted": true
      },
      "outputs": [],
      "execution_count": 85
    },
    {
      "id": "ce6e00c2-1c4d-4d8c-acc2-a04fc60b942a",
      "cell_type": "code",
      "source": "def Check_diag11(i,j):\n    if i<len(D_array)-3 and j<len(D_array[i])-3:\n        if all(D_array[i+z][j+z] == ref[z] for z in range(1,4)):\n            return True\n        else:\n            return False\n    else:\n        return False",
      "metadata": {
        "trusted": true
      },
      "outputs": [],
      "execution_count": 86
    },
    {
      "id": "1f65d35c-5eba-46d4-b1a4-64d94cea9431",
      "cell_type": "code",
      "source": "def Check_diag12(i,j):\n    if i>2 and j>2:\n        if all(D_array[i-z][j-z] == ref[z] for z in range(1,4)):\n            return True\n        else:\n            return False\n    else:\n        return False",
      "metadata": {
        "trusted": true
      },
      "outputs": [],
      "execution_count": 87
    },
    {
      "id": "08bde003-6ec8-4e59-8b84-2f43ae50af23",
      "cell_type": "code",
      "source": "def Check_diag21(i,j):\n    if i>2 and j<len(D_array[i])-3:\n        if all(D_array[i-z][j+z] == ref[z] for z in range(1,4)):\n            return True\n        else:\n            return False\n    else:\n        return False",
      "metadata": {
        "trusted": true
      },
      "outputs": [],
      "execution_count": 88
    },
    {
      "id": "4f94f1c5-8200-406e-93cd-31c569824bf1",
      "cell_type": "code",
      "source": "def Check_diag22(i,j):\n    if i<len(D_array)-3 and j>2:\n        if all(D_array[i+z][j-z] == ref[z] for z in range(1,4)):\n            return True\n        else:\n            return False\n    else:\n        return False",
      "metadata": {
        "trusted": true
      },
      "outputs": [],
      "execution_count": 89
    },
    {
      "id": "642dd4da-46f5-4cc0-8638-fe7d9114b179",
      "cell_type": "code",
      "source": "count_xmas=0\nfor i in range(len(D_array)):\n    for j in range(len(D_array[i])):\n        if D_array[i][j] == ref[0]:\n            if Check_hor1(i,j):\n                count_xmas = count_xmas+1\n            if Check_hor2(i,j):\n                count_xmas = count_xmas+1\n            if Check_ver1(i,j):\n                count_xmas = count_xmas+1\n            if Check_ver2(i,j):\n                count_xmas = count_xmas+1\n            if Check_diag11(i,j):\n                count_xmas = count_xmas+1\n            if Check_diag12(i,j):\n                count_xmas = count_xmas+1\n            if Check_diag21(i,j):\n                count_xmas = count_xmas+1\n            if Check_diag22(i,j):\n                count_xmas = count_xmas+1\nprint(count_xmas)",
      "metadata": {
        "trusted": true
      },
      "outputs": [
        {
          "name": "stdout",
          "output_type": "stream",
          "text": "2642\n"
        }
      ],
      "execution_count": 92
    },
    {
      "id": "73d3d1bb-97c4-453b-868d-f4bda8e60479",
      "cell_type": "code",
      "source": "def Check_diagII11(i,j):\n    if i>0 and i<len(D_array)-1 and j<len(D_array[i])-1 and j>0:\n        if all(D_array[i+z][j+z] == ref[z] for z in [-1,1]):\n            return True\n        else:\n            return False\n    else:\n        return False",
      "metadata": {
        "trusted": true
      },
      "outputs": [],
      "execution_count": 104
    },
    {
      "id": "04c5ff80-2cad-44b5-8030-b5837ecb0060",
      "cell_type": "code",
      "source": "def Check_diagII12(i,j):\n    if i>0 and i<len(D_array)-1 and j<len(D_array[i])-1 and j>0:\n        if all(D_array[i-z][j-z] == ref[z] for z in [-1,1]):\n            return True\n        else:\n            return False\n    else:\n        return False",
      "metadata": {
        "trusted": true
      },
      "outputs": [],
      "execution_count": 105
    },
    {
      "id": "120533f9-8411-4792-810e-0dc55d9227f9",
      "cell_type": "code",
      "source": "def Check_diagII21(i,j):\n    if i>0 and i<len(D_array)-1 and j<len(D_array[i])-1 and j>0:\n        if all(D_array[i-z][j+z] == ref[z] for z in [-1,1]):\n            return True\n        else:\n            return False\n    else:\n        return False",
      "metadata": {
        "trusted": true
      },
      "outputs": [],
      "execution_count": 106
    },
    {
      "id": "447864a4-01fd-44f8-9f6c-5d7f0c8647cf",
      "cell_type": "code",
      "source": "def Check_diagII22(i,j):\n    if i>0 and i<len(D_array)-1 and j<len(D_array[i])-1 and j>0:\n        if all(D_array[i+z][j-z] == ref[z] for z in [-1,1]):\n            return True\n        else:\n            return False\n    else:\n        return False",
      "metadata": {
        "trusted": true
      },
      "outputs": [],
      "execution_count": 107
    },
    {
      "id": "b6bd80ff-9710-4d16-a954-583cfe1a0bb0",
      "cell_type": "code",
      "source": "count_mas=0\nfor i in range(len(D_array)):\n    for j in range(len(D_array[i])):\n        if D_array[i][j] == ref[2]:\n            if Check_diagII11(i,j) or Check_diagII12(i,j):\n                if Check_diagII21(i,j) or Check_diagII22(i,j):\n                    count_mas=count_mas+1\nprint(count_mas)",
      "metadata": {
        "trusted": true
      },
      "outputs": [
        {
          "name": "stdout",
          "output_type": "stream",
          "text": "1974\n"
        }
      ],
      "execution_count": 108
    },
    {
      "id": "d4244569-e7ed-4684-94ba-4c4d99958735",
      "cell_type": "code",
      "source": "",
      "metadata": {
        "trusted": true
      },
      "outputs": [],
      "execution_count": null
    }
  ]
}