{
  "metadata": {
    "kernelspec": {
      "name": "python",
      "display_name": "Python (Pyodide)",
      "language": "python"
    },
    "language_info": {
      "codemirror_mode": {
        "name": "python",
        "version": 3
      },
      "file_extension": ".py",
      "mimetype": "text/x-python",
      "name": "python",
      "nbconvert_exporter": "python",
      "pygments_lexer": "ipython3",
      "version": "3.8"
    }
  },
  "nbformat_minor": 5,
  "nbformat": 4,
  "cells": [
    {
      "id": "176aeef9-3fa5-455b-9968-a14f3bd262aa",
      "cell_type": "code",
      "source": "import pandas as pd\nimport math",
      "metadata": {
        "trusted": true
      },
      "outputs": [],
      "execution_count": 11
    },
    {
      "id": "cec0ccc7-2c96-448b-b9f7-677d805cd167",
      "cell_type": "code",
      "source": "with open(\"data_day5.txt\",\"r\") as file:\n    content=file.read()\n    sections = list(content.split(\"\\n\\n\"))",
      "metadata": {
        "trusted": true
      },
      "outputs": [],
      "execution_count": 121
    },
    {
      "id": "059237d4-b91e-4fbd-9589-e193eee52659",
      "cell_type": "code",
      "source": "rules=sections[0].split(\"\\n\")\nupdates=sections[1].split(\"\\n\")",
      "metadata": {
        "trusted": true
      },
      "outputs": [],
      "execution_count": 122
    },
    {
      "id": "d5efebdf-bcde-44f6-bb86-67e187358d8a",
      "cell_type": "code",
      "source": "def PrepData(updates,rules):\n    prep_updates=[]\n    prep_rules=[]\n    for dat in updates:\n        l_dat=list(dat.strip().split(\",\"))\n        prep_updates.append(l_dat)\n    for rule in rules:\n        l_rule=list(rule.split(\"|\"))\n        prep_rules.append(l_rule)\n    return prep_updates,prep_rules",
      "metadata": {
        "trusted": true
      },
      "outputs": [],
      "execution_count": 73
    },
    {
      "id": "88857e3a-2bde-47c0-b4a2-c8606b272dca",
      "cell_type": "code",
      "source": "def MiddleSum(updates):\n    mid_sum=0\n    for dat in updates:\n        mid_sum=mid_sum+int(dat[math.trunc(len(dat)/2)])\n    return mid_sum",
      "metadata": {
        "trusted": true
      },
      "outputs": [],
      "execution_count": 74
    },
    {
      "id": "0ed81036-cd8a-4167-bcaf-9d234ee91a7c",
      "cell_type": "code",
      "source": "def CheckOrder(update,rules):\n    order=True\n    for bef, aft in rules:\n        if bef in update and aft in update:\n            if update.index(bef)>update.index(aft):\n                order=False\n    return order",
      "metadata": {
        "trusted": true
      },
      "outputs": [],
      "execution_count": 91
    },
    {
      "id": "0eefde8b-14a1-4279-9d54-b092701c694f",
      "cell_type": "code",
      "source": "p_up, p_ru = PrepData(updates,rules)\ncorr_upd=[]\nincorr_upd=[]\nfor upd in p_up:\n    if CheckOrder(upd,p_ru):\n        corr_upd.append(upd)\n    else:\n        incorr_upd.append(upd)\nprint(MiddleSum(corr_upd))",
      "metadata": {
        "trusted": true
      },
      "outputs": [
        {
          "name": "stdout",
          "output_type": "stream",
          "text": "5329\n"
        }
      ],
      "execution_count": 123
    },
    {
      "id": "b8321632-ca9c-4819-93de-efc19462fd30",
      "cell_type": "code",
      "source": "incorr_upd",
      "metadata": {
        "trusted": true
      },
      "outputs": [
        {
          "execution_count": 115,
          "output_type": "execute_result",
          "data": {
            "text/plain": "[['75', '97', '47', '61', '53'],\n ['61', '13', '29'],\n ['97', '13', '75', '29', '47']]"
          },
          "metadata": {}
        }
      ],
      "execution_count": 115
    },
    {
      "id": "00cc5b1f-d816-4853-919f-c317fb4fabfc",
      "cell_type": "code",
      "source": "def CorrectOrder(update,rules):\n    while(not CheckOrder(update, rules)):\n        for bef, aft in rules:\n            if bef in update and aft in update:\n                if update.index(bef)>update.index(aft):\n                    update[update.index(bef)], update[update.index(aft)]=aft, bef\n    return update",
      "metadata": {
        "trusted": true
      },
      "outputs": [],
      "execution_count": 124
    },
    {
      "id": "e9833a49-0206-42c5-a223-062891707a3d",
      "cell_type": "code",
      "source": "c_list=[]\nfor upd in incorr_upd:\n    c_upd = CorrectOrder(upd,p_ru)\n    c_list.append(c_upd)\nprint(MiddleSum(c_list))",
      "metadata": {
        "trusted": true
      },
      "outputs": [
        {
          "name": "stdout",
          "output_type": "stream",
          "text": "5833\n"
        }
      ],
      "execution_count": 125
    },
    {
      "id": "e2c949c8-d0fc-4a8b-ae1f-f8ee76e6c8f1",
      "cell_type": "code",
      "source": "",
      "metadata": {
        "trusted": true
      },
      "outputs": [],
      "execution_count": null
    }
  ]
}