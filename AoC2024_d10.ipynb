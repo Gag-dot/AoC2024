{
  "metadata": {
    "kernelspec": {
      "name": "python",
      "display_name": "Python (Pyodide)",
      "language": "python"
    },
    "language_info": {
      "codemirror_mode": {
        "name": "python",
        "version": 3
      },
      "file_extension": ".py",
      "mimetype": "text/x-python",
      "name": "python",
      "nbconvert_exporter": "python",
      "pygments_lexer": "ipython3",
      "version": "3.8"
    }
  },
  "nbformat_minor": 5,
  "nbformat": 4,
  "cells": [
    {
      "id": "39d32e6e-bbaf-4aa6-8001-2d97b0d51cf3",
      "cell_type": "code",
      "source": "import pandas as pd\nimport copy",
      "metadata": {
        "trusted": true
      },
      "outputs": [],
      "execution_count": 43
    },
    {
      "id": "58a27271-b145-408d-a400-d155c248fa0e",
      "cell_type": "code",
      "source": "def ReadData(filename):\n    data=[]\n    with open(filename,'r') as file:\n        for line in file:\n            l=line.strip()\n            l_list=[]\n            for i in range(len(l)):\n                l_list.append(int(l[i]))\n            data.append(l_list)\n    return data",
      "metadata": {
        "trusted": true
      },
      "outputs": [],
      "execution_count": 2
    },
    {
      "id": "ce4f96ec-898d-4cd5-b35c-9e5589308e00",
      "cell_type": "code",
      "source": "def FindHeads(data):\n    heads=[]\n    for i in range(len(data)):\n        for j in range(len(data[0])):\n            if data[i][j]==0:\n                heads.append([i,j])\n    return heads",
      "metadata": {
        "trusted": true
      },
      "outputs": [],
      "execution_count": 3
    },
    {
      "id": "e7db556d-52be-4838-9fca-b655697f3811",
      "cell_type": "code",
      "source": "def FindTails(data):\n    tails=[]\n    for i in range(len(data)):\n        for j in range(len(data[0])):\n            if data[i][j]==9:\n                heads.append([i,j])\n    return tails",
      "metadata": {
        "trusted": true
      },
      "outputs": [],
      "execution_count": 57
    },
    {
      "id": "4218aa9d-eab0-468c-a644-7529642cd43b",
      "cell_type": "code",
      "source": "def FilterTails(heads,paths):\n    score=0\n    for head in heads:\n        head_tail=[]\n        for path in paths:\n            if path[0]==head:\n                if path[9] not in head_tail:\n                    head_tail.append(path[9])\n        score+=len(head_tail)\n    return score",
      "metadata": {
        "trusted": true
      },
      "outputs": [],
      "execution_count": 63
    },
    {
      "id": "c830ac83-b9a9-4881-80a1-d5b495285b6b",
      "cell_type": "code",
      "source": "def FindPaths(data,x,y,path,paths):\n    if data[x][y]==9:\n        paths.append(path)\n        return\n    already=False\n    for dx,dy in directions:\n        nx,ny=x+dx,y+dy\n        if -1<nx<len(data) and -1<ny<len(data[0]):\n            if data[nx][ny]==data[x][y]+1:\n                if already:\n                    pathbis=copy.deepcopy(path)\n                    pathbis.append([nx,ny])\n                else:\n                    already=True\n                    pathbis=copy.deepcopy(path)\n                    pathbis.append([nx,ny])\n                FindPaths(data,nx,ny,pathbis,paths)",
      "metadata": {
        "trusted": true
      },
      "outputs": [],
      "execution_count": 72
    },
    {
      "id": "a5abfa9c-84ec-44b0-a9b8-b93f60ec4e30",
      "cell_type": "code",
      "source": "def SumScores(filename):\n    data=ReadData(filename)\n    heads=FindHeads(data)\n    paths=[]\n    for head in heads:    \n        path=[head]\n        paths.append(path)                \n        FindPaths(data,head[0],head[1],path,paths)\n    fil_paths=[lst for lst in paths if lst is not None and len(lst)>9]\n    score=FilterTails(heads,fil_paths)\n    print(\"Number of different tails: \",score)\n    print(\"Number of different paths: \",len(fil_paths))",
      "metadata": {
        "trusted": true
      },
      "outputs": [],
      "execution_count": 71
    },
    {
      "id": "effb1537-5f43-4966-80d5-681968fba21a",
      "cell_type": "code",
      "source": "directions=[(-1,0),(1,0),(0,-1),(0,1)]\nSumScores(\"data_day10.txt\")",
      "metadata": {
        "trusted": true
      },
      "outputs": [
        {
          "name": "stdout",
          "output_type": "stream",
          "text": "Number of different tails:  644\nNumber of different paths:  1366\n"
        }
      ],
      "execution_count": 70
    },
    {
      "id": "3e4dd590-d59b-4c04-851d-a35d5e93ed11",
      "cell_type": "code",
      "source": "",
      "metadata": {
        "trusted": true
      },
      "outputs": [],
      "execution_count": null
    }
  ]
}